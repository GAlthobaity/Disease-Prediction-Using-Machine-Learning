{
 "cells": [
  {
   "cell_type": "markdown",
   "id": "b4262384",
   "metadata": {},
   "source": [
    "# Neural Network"
   ]
  },
  {
   "cell_type": "markdown",
   "id": "2d6339f3",
   "metadata": {},
   "source": [
    "### Import libraries"
   ]
  },
  {
   "cell_type": "code",
   "execution_count": 2,
   "id": "2216cd46",
   "metadata": {},
   "outputs": [],
   "source": [
    "import pandas as pd\n",
    "from sklearn.model_selection import train_test_split\n",
    "from sklearn import metrics"
   ]
  },
  {
   "cell_type": "markdown",
   "id": "0ac9b0bc",
   "metadata": {},
   "source": [
    "### Import Data"
   ]
  },
  {
   "cell_type": "code",
   "execution_count": 3,
   "id": "0efd6f73",
   "metadata": {},
   "outputs": [],
   "source": [
    "train = pd.read_csv('Dataset/Training.csv')\n",
    "test = pd.read_csv('Dataset/Testing.csv')"
   ]
  },
  {
   "cell_type": "markdown",
   "id": "d6474f72",
   "metadata": {},
   "source": [
    "### Split data"
   ]
  },
  {
   "cell_type": "code",
   "execution_count": 4,
   "id": "b7298778",
   "metadata": {},
   "outputs": [],
   "source": [
    "A = train[[\"prognosis\"]] #diseases \n",
    "B = train.drop([\"prognosis\"],axis=1) #symptoms\n",
    "C = test.drop([\"prognosis\"],axis=1) #testing - symptoms\n",
    "x_train, x_test, y_train, y_test = train_test_split(B,A,test_size=0.2)"
   ]
  },
  {
   "cell_type": "markdown",
   "id": "852bf443",
   "metadata": {},
   "source": [
    "### Model"
   ]
  },
  {
   "cell_type": "code",
   "execution_count": null,
   "id": "0a3bb32e",
   "metadata": {},
   "outputs": [],
   "source": []
  },
  {
   "cell_type": "markdown",
   "id": "781b24c7",
   "metadata": {},
   "source": [
    "#### Accuracy"
   ]
  },
  {
   "cell_type": "code",
   "execution_count": null,
   "id": "80241d1f",
   "metadata": {},
   "outputs": [],
   "source": []
  }
 ],
 "metadata": {
  "kernelspec": {
   "display_name": "Python 3 (ipykernel)",
   "language": "python",
   "name": "python3"
  },
  "language_info": {
   "codemirror_mode": {
    "name": "ipython",
    "version": 3
   },
   "file_extension": ".py",
   "mimetype": "text/x-python",
   "name": "python",
   "nbconvert_exporter": "python",
   "pygments_lexer": "ipython3",
   "version": "3.9.12"
  }
 },
 "nbformat": 4,
 "nbformat_minor": 5
}
